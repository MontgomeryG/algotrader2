{
 "cells": [
  {
   "cell_type": "code",
   "execution_count": null,
   "metadata": {},
   "outputs": [],
   "source": [
    "# Set signal variable\n",
    "signal = 1\n",
    "\n",
    "\n",
    "# Create buy signal, num shares and ticker\n",
    "if signal == 1:\n",
    "    orderSide = \"buy\"\n",
    "else:\n",
    "    orderSide = \"sell\"\n",
    "\n",
    "\n",
    "# Set the ticket symbol and the number of shares to buy\n",
    "ticker = \"AAPL\"\n",
    "number_of_shares = 1\n",
    "\n",
    "\n",
    "# # Make API call\n",
    "# prices = alpaca.get_bars(ticker, \"1Min\").df\n",
    "\n",
    "# # Reorganize the DataFrame\n",
    "# prices = pd.concat([prices], axis=1, keys=[\"AAPL\"])\n",
    "\n",
    "# # Get final closing price\n",
    "# limit_amount = prices[\"AAPL\"][\"close\"][-1]\n",
    "\n",
    "\n",
    "\n",
    "# # Submit order\n",
    "# alpaca.submit_order(\n",
    "#     symbol=\"AAPL\", \n",
    "#     qty=number_of_shares, \n",
    "#     side=orderSide, \n",
    "#     time_in_force=\"gtc\", \n",
    "#     type=\"limit\", \n",
    "#     limit_price=limit_amount\n",
    "# )"
   ]
  }
 ],
 "metadata": {
  "language_info": {
   "name": "python"
  }
 },
 "nbformat": 4,
 "nbformat_minor": 2
}
