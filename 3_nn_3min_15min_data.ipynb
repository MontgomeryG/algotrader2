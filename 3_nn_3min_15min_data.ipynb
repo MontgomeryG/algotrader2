{
 "cells": [
  {
   "cell_type": "code",
   "execution_count": null,
   "metadata": {},
   "outputs": [],
   "source": [
    "# Import the required libraries\n",
    "import numpy as np\n",
    "import pandas as pd\n",
    "import hvplot.pandas\n",
    "from pathlib import Path\n",
    "from finta import TA\n",
    "\n",
    "# Imports for Alpaca API, .env files, requests\n",
    "import os\n",
    "import requests\n",
    "from dotenv import load_dotenv\n",
    "import alpaca_trade_api as tradeapi\n",
    "\n",
    "%matplotlib inline"
   ]
  },
  {
   "cell_type": "code",
   "execution_count": null,
   "metadata": {},
   "outputs": [],
   "source": [
    "# Load .env enviroment variables\n",
    "load_dotenv()"
   ]
  },
  {
   "cell_type": "code",
   "execution_count": null,
   "metadata": {},
   "outputs": [],
   "source": [
    "# Set Alpaca API key and secret\n",
    "alpaca_api_key = os.getenv(\"ALPACA_API_KEY\")\n",
    "alpaca_secret_key = os.getenv(\"ALPACA_SECRET_KEY\")\n",
    "\n",
    "# Verify that Alpaca key and secret were correctly loaded\n",
    "print(f\"Alpaca Key type: {type(alpaca_api_key)}\")\n",
    "print(f\"Alpaca Secret Key type: {type(alpaca_secret_key)}\")\n",
    "\n",
    "# Create the Alpaca API object\n",
    "alpaca = tradeapi.REST(\n",
    "    alpaca_api_key,\n",
    "    alpaca_secret_key,\n",
    "    api_version=\"v2\")\n",
    "\n",
    "# Set start and end dates and specify isoformat\n",
    "\n",
    "start_date = pd.Timestamp(\"2023-01-01\", tz=\"America/New_York\").isoformat()\n",
    "end_date = pd.Timestamp(\"2024-01-17\", tz=\"America/New_York\").isoformat()\n",
    "\n",
    "# Set the tickers(s)\n",
    "tickers = [\"AAPL\"]"
   ]
  },
  {
   "cell_type": "code",
   "execution_count": null,
   "metadata": {},
   "outputs": [],
   "source": [
    "# 3 MINUTE\n",
    "# Set timeframe for Alpaca API\n",
    "timeframe = \"3Min\"\n",
    "\n",
    "# Get historical OHLC data for AAPL\n",
    "aapl_3min_df = alpaca.get_bars(\n",
    "    tickers,\n",
    "    timeframe,\n",
    "    start = start_date,\n",
    "    end = end_date\n",
    ").df\n",
    "\n",
    "aapl_3min_df\n",
    "\n",
    "# Separate ticker data\n",
    "aapl_3min_formatted = aapl_3min_df[aapl_3min_df['symbol']=='AAPL'].drop('symbol', axis=1)\n",
    "\n",
    "# Drop NA\n",
    "aapl_3min_formatted = aapl_3min_formatted.dropna()\n",
    "\n",
    "aapl_3min_formatted\n"
   ]
  },
  {
   "cell_type": "code",
   "execution_count": null,
   "metadata": {},
   "outputs": [],
   "source": [
    "# Now save this cleaned dataframe to a new .csv\n",
    "aapl_3min_formatted.to_csv('../algotrader2/Resources/aapl_3min_df.csv', index=True)\n"
   ]
  },
  {
   "cell_type": "code",
   "execution_count": null,
   "metadata": {},
   "outputs": [],
   "source": [
    "# 15 MINUTE\n",
    "# Set timeframe for Alpaca API\n",
    "timeframe = \"15Min\"\n",
    "\n",
    "# Get historical OHLC data for AALP and MSFT\n",
    "aapl_15min_df = alpaca.get_bars(\n",
    "    tickers,\n",
    "    timeframe,\n",
    "    start = start_date,\n",
    "    end = end_date\n",
    ").df\n",
    "\n",
    "aapl_15min_df\n",
    "\n",
    "# Separate ticker data\n",
    "aapl_15min_formatted = aapl_15min_df[aapl_15min_df['symbol']=='AAPL'].drop('symbol', axis=1)\n",
    "\n",
    "\n",
    "# Drop NA\n",
    "aapl_15min_formatted = aapl_15min_formatted.dropna()\n",
    "\n",
    "aapl_15min_formatted"
   ]
  },
  {
   "cell_type": "code",
   "execution_count": null,
   "metadata": {},
   "outputs": [],
   "source": [
    "# Now save this cleaned dataframe to a new .csv\n",
    "aapl_15min_formatted.to_csv('../algotrader2/Resources/aapl_15min_df.csv', index=True)\n"
   ]
  },
  {
   "cell_type": "markdown",
   "metadata": {},
   "source": [
    "Now go create the features for the 3 and the 15 minute \n",
    "\n",
    "[3 and 15 min feature creation]()\n"
   ]
  }
 ],
 "metadata": {
  "kernelspec": {
   "display_name": "base",
   "language": "python",
   "name": "python3"
  },
  "language_info": {
   "codemirror_mode": {
    "name": "ipython",
    "version": 3
   },
   "file_extension": ".py",
   "mimetype": "text/x-python",
   "name": "python",
   "nbconvert_exporter": "python",
   "pygments_lexer": "ipython3",
   "version": "3.11.5"
  }
 },
 "nbformat": 4,
 "nbformat_minor": 2
}
